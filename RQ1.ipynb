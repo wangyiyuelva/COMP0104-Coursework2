{
 "cells": [
  {
   "cell_type": "code",
   "execution_count": 1,
   "metadata": {
    "ExecuteTime": {
     "end_time": "2023-12-16T16:08:36.971861700Z",
     "start_time": "2023-12-16T16:08:36.957843500Z"
    }
   },
   "outputs": [],
   "source": [
    "import os\n",
    "\n",
    "project_li = [\n",
    "    'commons-geometry',\n",
    "    'commons-rdf',\n",
    "    'commons-rng',\n",
    "    'commons-statistics',\n",
    "    'iceberg',\n",
    "    'zeppelin',\n",
    "    'xalan-java',\n",
    "    'submarine',\n",
    "    'storm',\n",
    "    'reef',\n",
    "    'plc4x',\n",
    "    'pinot',\n",
    "    'phoenix',\n",
    "    'parquet-mr',\n",
    "    'ozone',\n",
    "    'orc',\n",
    "    'openmeetings',\n",
    "    'metamodel',\n",
    "    'lens',\n",
    "    'kylin',\n",
    "    'knox',\n",
    "    'directory-kerby',\n",
    "    'db-jdo',\n",
    "    'iotdb',\n",
    "    'inlong',\n",
    "    'ignite',\n",
    "]"
   ]
  },
  {
   "cell_type": "code",
   "execution_count": 4,
   "metadata": {
    "ExecuteTime": {
     "end_time": "2023-12-12T23:00:25.618151800Z",
     "start_time": "2023-12-12T23:00:14.706296500Z"
    },
    "collapsed": false,
    "jupyter": {
     "outputs_hidden": false
    }
   },
   "outputs": [
    {
     "name": "stdout",
     "output_type": "stream",
     "text": [
      "[Success Analysis CSV] commons-geometry\n",
      "[Success Analysis CSV] commons-rdf\n",
      "[Success Analysis CSV] commons-rng\n",
      "[Success Analysis CSV] commons-statistics\n",
      "[Success Analysis CSV] iceberg\n",
      "[Success Analysis CSV] zeppelin\n",
      "[Success Analysis CSV] xalan-java\n",
      "[Success Analysis CSV] submarine\n",
      "[Success Analysis CSV] storm\n",
      "[Success Analysis CSV] reef\n",
      "[Success Analysis CSV] plc4x\n",
      "[Success Analysis CSV] pinot\n",
      "[Success Analysis CSV] phoenix\n",
      "[Success Analysis CSV] parquet-mr\n",
      "[Success Analysis CSV] ozone\n",
      "[Success Analysis CSV] orc\n",
      "[Success Analysis CSV] openmeetings\n",
      "[Success Analysis CSV] metamodel\n",
      "[Success Analysis CSV] lens\n",
      "[Success Analysis CSV] kylin\n",
      "[Success Analysis CSV] knox\n",
      "[Success Analysis CSV] directory-kerby\n",
      "[Success Analysis CSV] db-jdo\n",
      "[Success Analysis CSV] iotdb\n",
      "[Success Analysis CSV] inlong\n",
      "[Success Analysis CSV] ignite\n"
     ]
    }
   ],
   "source": [
    "for project in project_li:\n",
    "    # cmd_generate_csv = str(r'python .\\collect_information.py %s' % project)\n",
    "    # os.system(cmd_generate_csv)\n",
    "    # print('[Success Generate CSV] %s' % project)\n",
    "    cmd_analysis_csv = str(r'python analyse_csv.py %s' % project)\n",
    "    # print(cmd_analysis_csv)\n",
    "    os.system(cmd_analysis_csv)\n",
    "    print('[Success Analysis CSV] %s' % project)\n"
   ]
  },
  {
   "cell_type": "code",
   "execution_count": 2,
   "metadata": {
    "ExecuteTime": {
     "end_time": "2023-12-16T16:08:50.516964300Z",
     "start_time": "2023-12-16T16:08:50.508750300Z"
    },
    "collapsed": false,
    "jupyter": {
     "outputs_hidden": false
    }
   },
   "outputs": [
    {
     "name": "stdout",
     "output_type": "stream",
     "text": [
      "commons-geometry    : [2, 27, 154]\n",
      "commons-rdf         : [1, 11, 7]\n",
      "commons-rng         : [1, 33, 97]\n",
      "commons-statistics  : [0, 2, 70]\n",
      "iceberg             : [2, 106, 258]\n",
      "zeppelin            : [1, 61, 151]\n",
      "xalan-java          : [1, 1, 0]\n",
      "submarine           : [0, 15, 67]\n",
      "storm               : [3, 103, 136]\n",
      "reef                : [7, 41, 93]\n",
      "plc4x               : [11, 144, 68]\n",
      "pinot               : [24, 353, 615]\n",
      "phoenix             : [2, 63, 155]\n",
      "parquet-mr          : [6, 58, 89]\n",
      "ozone               : [2, 189, 453]\n",
      "orc                 : [0, 24, 86]\n",
      "openmeetings        : [0, 15, 10]\n",
      "metamodel           : [0, 24, 132]\n",
      "lens                : [3, 32, 71]\n",
      "kylin               : [0, 42, 545]\n",
      "knox                : [6, 101, 230]\n",
      "directory-kerby     : [3, 40, 27]\n",
      "db-jdo              : [2, 10, 54]\n",
      "iotdb               : [14, 240, 451]\n",
      "inlong              : [5, 87, 289]\n",
      "ignite              : [10, 75, 285]\n"
     ]
    }
   ],
   "source": [
    "with open('./analyseTestfile/results.txt', 'r') as file:\n",
    "    word_li = []\n",
    "    for line in file:\n",
    "        words = line.strip().split()\n",
    "        word_li.append(words[-1])\n",
    "\n",
    "idx = 0\n",
    "project_times_dic = {}\n",
    "for i in range(len(word_li)):\n",
    "    if idx == 26:\n",
    "        break\n",
    "    if word_li[i] == project_li[idx]:\n",
    "        project_times_dic[project_li[idx]] = [int(item) for item in word_li[i+1:i+4]]\n",
    "        print(f'{project_li[idx]:<20}: {project_times_dic[project_li[idx]]}')\n",
    "        idx = idx + 1"
   ]
  },
  {
   "cell_type": "code",
   "execution_count": 3,
   "metadata": {
    "ExecuteTime": {
     "end_time": "2023-12-16T16:08:51.653093500Z",
     "start_time": "2023-12-16T16:08:51.638276700Z"
    },
    "collapsed": false,
    "jupyter": {
     "outputs_hidden": false
    }
   },
   "outputs": [
    {
     "name": "stdout",
     "output_type": "stream",
     "text": [
      "commons-geometry    : ['0.011', '0.148', '0.842']\n",
      "commons-rdf         : ['0.053', '0.579', '0.368']\n",
      "commons-rng         : ['0.008', '0.252', '0.740']\n",
      "commons-statistics  : ['0.000', '0.028', '0.972']\n",
      "iceberg             : ['0.005', '0.290', '0.705']\n",
      "zeppelin            : ['0.005', '0.286', '0.709']\n",
      "xalan-java          : ['0.500', '0.500', '0.000']\n",
      "submarine           : ['0.000', '0.183', '0.817']\n",
      "storm               : ['0.012', '0.426', '0.562']\n",
      "reef                : ['0.050', '0.291', '0.660']\n",
      "plc4x               : ['0.049', '0.646', '0.305']\n",
      "pinot               : ['0.024', '0.356', '0.620']\n",
      "phoenix             : ['0.009', '0.286', '0.705']\n",
      "parquet-mr          : ['0.039', '0.379', '0.582']\n",
      "ozone               : ['0.003', '0.293', '0.703']\n",
      "orc                 : ['0.000', '0.218', '0.782']\n",
      "openmeetings        : ['0.000', '0.600', '0.400']\n",
      "metamodel           : ['0.000', '0.154', '0.846']\n",
      "lens                : ['0.028', '0.302', '0.670']\n",
      "kylin               : ['0.000', '0.072', '0.928']\n",
      "knox                : ['0.018', '0.300', '0.682']\n",
      "directory-kerby     : ['0.043', '0.571', '0.386']\n",
      "db-jdo              : ['0.030', '0.152', '0.818']\n",
      "iotdb               : ['0.020', '0.340', '0.640']\n",
      "inlong              : ['0.013', '0.228', '0.759']\n",
      "ignite              : ['0.027', '0.203', '0.770']\n"
     ]
    }
   ],
   "source": [
    "project_ratio_dic = {}\n",
    "for key, value in project_times_dic.items():\n",
    "    project_ratio_dic[key] = [format(item/sum(value), '.3f') for item in value]\n",
    "    print(f'{key:<20}: {project_ratio_dic[key]}')"
   ]
  },
  {
   "cell_type": "code",
   "execution_count": 4,
   "metadata": {
    "ExecuteTime": {
     "end_time": "2023-12-16T16:08:53.425222700Z",
     "start_time": "2023-12-16T16:08:52.499831700Z"
    },
    "collapsed": false,
    "jupyter": {
     "outputs_hidden": false
    }
   },
   "outputs": [],
   "source": [
    "import pandas as pd\n",
    "\n",
    "ratio_data = []\n",
    "for project, values in project_ratio_dic.items():\n",
    "    ratio_data.append({\n",
    "        \"Project\"   : project,\n",
    "        \"Before\"    : float(values[0]),\n",
    "        \"Same Time\" : float(values[2]),\n",
    "        \"After\"     : float(values[1]),\n",
    "    })"
   ]
  },
  {
   "cell_type": "code",
   "execution_count": 10,
   "metadata": {
    "collapsed": false,
    "jupyter": {
     "outputs_hidden": false
    },
    "ExecuteTime": {
     "end_time": "2023-12-16T16:21:09.185812900Z",
     "start_time": "2023-12-16T16:21:09.173208300Z"
    }
   },
   "outputs": [
    {
     "data": {
      "application/vnd.plotly.v1+json": {
       "data": [
        {
         "alignmentgroup": "True",
         "hovertemplate": "variable=Before<br>Project=%{x}<br>value=%{y}<extra></extra>",
         "legendgroup": "Before",
         "marker": {
          "color": "#75E6DA",
          "pattern": {
           "shape": ""
          }
         },
         "name": "Before",
         "offsetgroup": "Before",
         "orientation": "v",
         "showlegend": true,
         "textposition": "auto",
         "x": [
          "commons-geometry",
          "commons-rdf",
          "commons-rng",
          "commons-statistics",
          "iceberg",
          "zeppelin",
          "xalan-java",
          "submarine",
          "storm",
          "reef",
          "plc4x",
          "pinot",
          "phoenix",
          "parquet-mr",
          "ozone",
          "orc",
          "openmeetings",
          "metamodel",
          "lens",
          "kylin",
          "knox",
          "directory-kerby",
          "db-jdo",
          "iotdb",
          "inlong",
          "ignite"
         ],
         "xaxis": "x",
         "y": [
          0.011,
          0.053,
          0.008,
          0.0,
          0.005,
          0.005,
          0.5,
          0.0,
          0.012,
          0.05,
          0.049,
          0.024,
          0.009,
          0.039,
          0.003,
          0.0,
          0.0,
          0.0,
          0.028,
          0.0,
          0.018,
          0.043,
          0.03,
          0.02,
          0.013,
          0.027
         ],
         "yaxis": "y",
         "type": "bar"
        },
        {
         "alignmentgroup": "True",
         "hovertemplate": "variable=Same Time<br>Project=%{x}<br>value=%{y}<extra></extra>",
         "legendgroup": "Same Time",
         "marker": {
          "color": "#189AB4",
          "pattern": {
           "shape": ""
          }
         },
         "name": "Same Time",
         "offsetgroup": "Same Time",
         "orientation": "v",
         "showlegend": true,
         "textposition": "auto",
         "x": [
          "commons-geometry",
          "commons-rdf",
          "commons-rng",
          "commons-statistics",
          "iceberg",
          "zeppelin",
          "xalan-java",
          "submarine",
          "storm",
          "reef",
          "plc4x",
          "pinot",
          "phoenix",
          "parquet-mr",
          "ozone",
          "orc",
          "openmeetings",
          "metamodel",
          "lens",
          "kylin",
          "knox",
          "directory-kerby",
          "db-jdo",
          "iotdb",
          "inlong",
          "ignite"
         ],
         "xaxis": "x",
         "y": [
          0.842,
          0.368,
          0.74,
          0.972,
          0.705,
          0.709,
          0.0,
          0.817,
          0.562,
          0.66,
          0.305,
          0.62,
          0.705,
          0.582,
          0.703,
          0.782,
          0.4,
          0.846,
          0.67,
          0.928,
          0.682,
          0.386,
          0.818,
          0.64,
          0.759,
          0.77
         ],
         "yaxis": "y",
         "type": "bar"
        },
        {
         "alignmentgroup": "True",
         "hovertemplate": "variable=After<br>Project=%{x}<br>value=%{y}<extra></extra>",
         "legendgroup": "After",
         "marker": {
          "color": "#05445E",
          "pattern": {
           "shape": ""
          }
         },
         "name": "After",
         "offsetgroup": "After",
         "orientation": "v",
         "showlegend": true,
         "textposition": "auto",
         "x": [
          "commons-geometry",
          "commons-rdf",
          "commons-rng",
          "commons-statistics",
          "iceberg",
          "zeppelin",
          "xalan-java",
          "submarine",
          "storm",
          "reef",
          "plc4x",
          "pinot",
          "phoenix",
          "parquet-mr",
          "ozone",
          "orc",
          "openmeetings",
          "metamodel",
          "lens",
          "kylin",
          "knox",
          "directory-kerby",
          "db-jdo",
          "iotdb",
          "inlong",
          "ignite"
         ],
         "xaxis": "x",
         "y": [
          0.148,
          0.579,
          0.252,
          0.028,
          0.29,
          0.286,
          0.5,
          0.183,
          0.426,
          0.291,
          0.646,
          0.356,
          0.286,
          0.379,
          0.293,
          0.218,
          0.6,
          0.154,
          0.302,
          0.072,
          0.3,
          0.571,
          0.152,
          0.34,
          0.228,
          0.203
         ],
         "yaxis": "y",
         "type": "bar"
        }
       ],
       "layout": {
        "template": {
         "data": {
          "histogram2dcontour": [
           {
            "type": "histogram2dcontour",
            "colorbar": {
             "outlinewidth": 0,
             "ticks": ""
            },
            "colorscale": [
             [
              0.0,
              "#0d0887"
             ],
             [
              0.1111111111111111,
              "#46039f"
             ],
             [
              0.2222222222222222,
              "#7201a8"
             ],
             [
              0.3333333333333333,
              "#9c179e"
             ],
             [
              0.4444444444444444,
              "#bd3786"
             ],
             [
              0.5555555555555556,
              "#d8576b"
             ],
             [
              0.6666666666666666,
              "#ed7953"
             ],
             [
              0.7777777777777778,
              "#fb9f3a"
             ],
             [
              0.8888888888888888,
              "#fdca26"
             ],
             [
              1.0,
              "#f0f921"
             ]
            ]
           }
          ],
          "choropleth": [
           {
            "type": "choropleth",
            "colorbar": {
             "outlinewidth": 0,
             "ticks": ""
            }
           }
          ],
          "histogram2d": [
           {
            "type": "histogram2d",
            "colorbar": {
             "outlinewidth": 0,
             "ticks": ""
            },
            "colorscale": [
             [
              0.0,
              "#0d0887"
             ],
             [
              0.1111111111111111,
              "#46039f"
             ],
             [
              0.2222222222222222,
              "#7201a8"
             ],
             [
              0.3333333333333333,
              "#9c179e"
             ],
             [
              0.4444444444444444,
              "#bd3786"
             ],
             [
              0.5555555555555556,
              "#d8576b"
             ],
             [
              0.6666666666666666,
              "#ed7953"
             ],
             [
              0.7777777777777778,
              "#fb9f3a"
             ],
             [
              0.8888888888888888,
              "#fdca26"
             ],
             [
              1.0,
              "#f0f921"
             ]
            ]
           }
          ],
          "heatmap": [
           {
            "type": "heatmap",
            "colorbar": {
             "outlinewidth": 0,
             "ticks": ""
            },
            "colorscale": [
             [
              0.0,
              "#0d0887"
             ],
             [
              0.1111111111111111,
              "#46039f"
             ],
             [
              0.2222222222222222,
              "#7201a8"
             ],
             [
              0.3333333333333333,
              "#9c179e"
             ],
             [
              0.4444444444444444,
              "#bd3786"
             ],
             [
              0.5555555555555556,
              "#d8576b"
             ],
             [
              0.6666666666666666,
              "#ed7953"
             ],
             [
              0.7777777777777778,
              "#fb9f3a"
             ],
             [
              0.8888888888888888,
              "#fdca26"
             ],
             [
              1.0,
              "#f0f921"
             ]
            ]
           }
          ],
          "heatmapgl": [
           {
            "type": "heatmapgl",
            "colorbar": {
             "outlinewidth": 0,
             "ticks": ""
            },
            "colorscale": [
             [
              0.0,
              "#0d0887"
             ],
             [
              0.1111111111111111,
              "#46039f"
             ],
             [
              0.2222222222222222,
              "#7201a8"
             ],
             [
              0.3333333333333333,
              "#9c179e"
             ],
             [
              0.4444444444444444,
              "#bd3786"
             ],
             [
              0.5555555555555556,
              "#d8576b"
             ],
             [
              0.6666666666666666,
              "#ed7953"
             ],
             [
              0.7777777777777778,
              "#fb9f3a"
             ],
             [
              0.8888888888888888,
              "#fdca26"
             ],
             [
              1.0,
              "#f0f921"
             ]
            ]
           }
          ],
          "contourcarpet": [
           {
            "type": "contourcarpet",
            "colorbar": {
             "outlinewidth": 0,
             "ticks": ""
            }
           }
          ],
          "contour": [
           {
            "type": "contour",
            "colorbar": {
             "outlinewidth": 0,
             "ticks": ""
            },
            "colorscale": [
             [
              0.0,
              "#0d0887"
             ],
             [
              0.1111111111111111,
              "#46039f"
             ],
             [
              0.2222222222222222,
              "#7201a8"
             ],
             [
              0.3333333333333333,
              "#9c179e"
             ],
             [
              0.4444444444444444,
              "#bd3786"
             ],
             [
              0.5555555555555556,
              "#d8576b"
             ],
             [
              0.6666666666666666,
              "#ed7953"
             ],
             [
              0.7777777777777778,
              "#fb9f3a"
             ],
             [
              0.8888888888888888,
              "#fdca26"
             ],
             [
              1.0,
              "#f0f921"
             ]
            ]
           }
          ],
          "surface": [
           {
            "type": "surface",
            "colorbar": {
             "outlinewidth": 0,
             "ticks": ""
            },
            "colorscale": [
             [
              0.0,
              "#0d0887"
             ],
             [
              0.1111111111111111,
              "#46039f"
             ],
             [
              0.2222222222222222,
              "#7201a8"
             ],
             [
              0.3333333333333333,
              "#9c179e"
             ],
             [
              0.4444444444444444,
              "#bd3786"
             ],
             [
              0.5555555555555556,
              "#d8576b"
             ],
             [
              0.6666666666666666,
              "#ed7953"
             ],
             [
              0.7777777777777778,
              "#fb9f3a"
             ],
             [
              0.8888888888888888,
              "#fdca26"
             ],
             [
              1.0,
              "#f0f921"
             ]
            ]
           }
          ],
          "mesh3d": [
           {
            "type": "mesh3d",
            "colorbar": {
             "outlinewidth": 0,
             "ticks": ""
            }
           }
          ],
          "scatter": [
           {
            "marker": {
             "line": {
              "color": "#283442"
             }
            },
            "type": "scatter"
           }
          ],
          "parcoords": [
           {
            "type": "parcoords",
            "line": {
             "colorbar": {
              "outlinewidth": 0,
              "ticks": ""
             }
            }
           }
          ],
          "scatterpolargl": [
           {
            "type": "scatterpolargl",
            "marker": {
             "colorbar": {
              "outlinewidth": 0,
              "ticks": ""
             }
            }
           }
          ],
          "bar": [
           {
            "error_x": {
             "color": "#f2f5fa"
            },
            "error_y": {
             "color": "#f2f5fa"
            },
            "marker": {
             "line": {
              "color": "rgb(17,17,17)",
              "width": 0.5
             },
             "pattern": {
              "fillmode": "overlay",
              "size": 10,
              "solidity": 0.2
             }
            },
            "type": "bar"
           }
          ],
          "scattergeo": [
           {
            "type": "scattergeo",
            "marker": {
             "colorbar": {
              "outlinewidth": 0,
              "ticks": ""
             }
            }
           }
          ],
          "scatterpolar": [
           {
            "type": "scatterpolar",
            "marker": {
             "colorbar": {
              "outlinewidth": 0,
              "ticks": ""
             }
            }
           }
          ],
          "histogram": [
           {
            "marker": {
             "pattern": {
              "fillmode": "overlay",
              "size": 10,
              "solidity": 0.2
             }
            },
            "type": "histogram"
           }
          ],
          "scattergl": [
           {
            "marker": {
             "line": {
              "color": "#283442"
             }
            },
            "type": "scattergl"
           }
          ],
          "scatter3d": [
           {
            "type": "scatter3d",
            "line": {
             "colorbar": {
              "outlinewidth": 0,
              "ticks": ""
             }
            },
            "marker": {
             "colorbar": {
              "outlinewidth": 0,
              "ticks": ""
             }
            }
           }
          ],
          "scattermapbox": [
           {
            "type": "scattermapbox",
            "marker": {
             "colorbar": {
              "outlinewidth": 0,
              "ticks": ""
             }
            }
           }
          ],
          "scatterternary": [
           {
            "type": "scatterternary",
            "marker": {
             "colorbar": {
              "outlinewidth": 0,
              "ticks": ""
             }
            }
           }
          ],
          "scattercarpet": [
           {
            "type": "scattercarpet",
            "marker": {
             "colorbar": {
              "outlinewidth": 0,
              "ticks": ""
             }
            }
           }
          ],
          "carpet": [
           {
            "aaxis": {
             "endlinecolor": "#A2B1C6",
             "gridcolor": "#506784",
             "linecolor": "#506784",
             "minorgridcolor": "#506784",
             "startlinecolor": "#A2B1C6"
            },
            "baxis": {
             "endlinecolor": "#A2B1C6",
             "gridcolor": "#506784",
             "linecolor": "#506784",
             "minorgridcolor": "#506784",
             "startlinecolor": "#A2B1C6"
            },
            "type": "carpet"
           }
          ],
          "table": [
           {
            "cells": {
             "fill": {
              "color": "#506784"
             },
             "line": {
              "color": "rgb(17,17,17)"
             }
            },
            "header": {
             "fill": {
              "color": "#2a3f5f"
             },
             "line": {
              "color": "rgb(17,17,17)"
             }
            },
            "type": "table"
           }
          ],
          "barpolar": [
           {
            "marker": {
             "line": {
              "color": "rgb(17,17,17)",
              "width": 0.5
             },
             "pattern": {
              "fillmode": "overlay",
              "size": 10,
              "solidity": 0.2
             }
            },
            "type": "barpolar"
           }
          ],
          "pie": [
           {
            "automargin": true,
            "type": "pie"
           }
          ]
         },
         "layout": {
          "autotypenumbers": "strict",
          "colorway": [
           "#636efa",
           "#EF553B",
           "#00cc96",
           "#ab63fa",
           "#FFA15A",
           "#19d3f3",
           "#FF6692",
           "#B6E880",
           "#FF97FF",
           "#FECB52"
          ],
          "font": {
           "color": "#f2f5fa"
          },
          "hovermode": "closest",
          "hoverlabel": {
           "align": "left"
          },
          "paper_bgcolor": "rgb(17,17,17)",
          "plot_bgcolor": "rgb(17,17,17)",
          "polar": {
           "bgcolor": "rgb(17,17,17)",
           "angularaxis": {
            "gridcolor": "#506784",
            "linecolor": "#506784",
            "ticks": ""
           },
           "radialaxis": {
            "gridcolor": "#506784",
            "linecolor": "#506784",
            "ticks": ""
           }
          },
          "ternary": {
           "bgcolor": "rgb(17,17,17)",
           "aaxis": {
            "gridcolor": "#506784",
            "linecolor": "#506784",
            "ticks": ""
           },
           "baxis": {
            "gridcolor": "#506784",
            "linecolor": "#506784",
            "ticks": ""
           },
           "caxis": {
            "gridcolor": "#506784",
            "linecolor": "#506784",
            "ticks": ""
           }
          },
          "coloraxis": {
           "colorbar": {
            "outlinewidth": 0,
            "ticks": ""
           }
          },
          "colorscale": {
           "sequential": [
            [
             0.0,
             "#0d0887"
            ],
            [
             0.1111111111111111,
             "#46039f"
            ],
            [
             0.2222222222222222,
             "#7201a8"
            ],
            [
             0.3333333333333333,
             "#9c179e"
            ],
            [
             0.4444444444444444,
             "#bd3786"
            ],
            [
             0.5555555555555556,
             "#d8576b"
            ],
            [
             0.6666666666666666,
             "#ed7953"
            ],
            [
             0.7777777777777778,
             "#fb9f3a"
            ],
            [
             0.8888888888888888,
             "#fdca26"
            ],
            [
             1.0,
             "#f0f921"
            ]
           ],
           "sequentialminus": [
            [
             0.0,
             "#0d0887"
            ],
            [
             0.1111111111111111,
             "#46039f"
            ],
            [
             0.2222222222222222,
             "#7201a8"
            ],
            [
             0.3333333333333333,
             "#9c179e"
            ],
            [
             0.4444444444444444,
             "#bd3786"
            ],
            [
             0.5555555555555556,
             "#d8576b"
            ],
            [
             0.6666666666666666,
             "#ed7953"
            ],
            [
             0.7777777777777778,
             "#fb9f3a"
            ],
            [
             0.8888888888888888,
             "#fdca26"
            ],
            [
             1.0,
             "#f0f921"
            ]
           ],
           "diverging": [
            [
             0,
             "#8e0152"
            ],
            [
             0.1,
             "#c51b7d"
            ],
            [
             0.2,
             "#de77ae"
            ],
            [
             0.3,
             "#f1b6da"
            ],
            [
             0.4,
             "#fde0ef"
            ],
            [
             0.5,
             "#f7f7f7"
            ],
            [
             0.6,
             "#e6f5d0"
            ],
            [
             0.7,
             "#b8e186"
            ],
            [
             0.8,
             "#7fbc41"
            ],
            [
             0.9,
             "#4d9221"
            ],
            [
             1,
             "#276419"
            ]
           ]
          },
          "xaxis": {
           "gridcolor": "#283442",
           "linecolor": "#506784",
           "ticks": "",
           "title": {
            "standoff": 15
           },
           "zerolinecolor": "#283442",
           "automargin": true,
           "zerolinewidth": 2
          },
          "yaxis": {
           "gridcolor": "#283442",
           "linecolor": "#506784",
           "ticks": "",
           "title": {
            "standoff": 15
           },
           "zerolinecolor": "#283442",
           "automargin": true,
           "zerolinewidth": 2
          },
          "scene": {
           "xaxis": {
            "backgroundcolor": "rgb(17,17,17)",
            "gridcolor": "#506784",
            "linecolor": "#506784",
            "showbackground": true,
            "ticks": "",
            "zerolinecolor": "#C8D4E3",
            "gridwidth": 2
           },
           "yaxis": {
            "backgroundcolor": "rgb(17,17,17)",
            "gridcolor": "#506784",
            "linecolor": "#506784",
            "showbackground": true,
            "ticks": "",
            "zerolinecolor": "#C8D4E3",
            "gridwidth": 2
           },
           "zaxis": {
            "backgroundcolor": "rgb(17,17,17)",
            "gridcolor": "#506784",
            "linecolor": "#506784",
            "showbackground": true,
            "ticks": "",
            "zerolinecolor": "#C8D4E3",
            "gridwidth": 2
           }
          },
          "shapedefaults": {
           "line": {
            "color": "#f2f5fa"
           }
          },
          "annotationdefaults": {
           "arrowcolor": "#f2f5fa",
           "arrowhead": 0,
           "arrowwidth": 1
          },
          "geo": {
           "bgcolor": "rgb(17,17,17)",
           "landcolor": "rgb(17,17,17)",
           "subunitcolor": "#506784",
           "showland": true,
           "showlakes": true,
           "lakecolor": "rgb(17,17,17)"
          },
          "title": {
           "x": 0.05
          },
          "updatemenudefaults": {
           "bgcolor": "#506784",
           "borderwidth": 0
          },
          "sliderdefaults": {
           "bgcolor": "#C8D4E3",
           "borderwidth": 1,
           "bordercolor": "rgb(17,17,17)",
           "tickwidth": 0
          },
          "mapbox": {
           "style": "dark"
          }
         }
        },
        "xaxis": {
         "anchor": "y",
         "domain": [
          0.0,
          1.0
         ],
         "title": {
          "text": "Project"
         }
        },
        "yaxis": {
         "anchor": "x",
         "domain": [
          0.0,
          1.0
         ],
         "title": {
          "text": "value"
         }
        },
        "legend": {
         "title": {
          "text": "variable"
         },
         "tracegroupgap": 0
        },
        "title": {
         "text": "Test File Creation Timing Across Projects"
        },
        "barmode": "relative",
        "font": {
         "family": "Arial, sans-serif",
         "size": 12,
         "color": "black"
        },
        "height": 500,
        "width": 800,
        "plot_bgcolor": "white",
        "paper_bgcolor": "white"
       },
       "config": {
        "plotlyServerURL": "https://plot.ly"
       }
      },
      "text/html": "<div>                            <div id=\"535e7b1f-68f8-4695-8241-e77bde601491\" class=\"plotly-graph-div\" style=\"height:500px; width:800px;\"></div>            <script type=\"text/javascript\">                require([\"plotly\"], function(Plotly) {                    window.PLOTLYENV=window.PLOTLYENV || {};                                    if (document.getElementById(\"535e7b1f-68f8-4695-8241-e77bde601491\")) {                    Plotly.newPlot(                        \"535e7b1f-68f8-4695-8241-e77bde601491\",                        [{\"alignmentgroup\":\"True\",\"hovertemplate\":\"variable=Before\\u003cbr\\u003eProject=%{x}\\u003cbr\\u003evalue=%{y}\\u003cextra\\u003e\\u003c\\u002fextra\\u003e\",\"legendgroup\":\"Before\",\"marker\":{\"color\":\"#75E6DA\",\"pattern\":{\"shape\":\"\"}},\"name\":\"Before\",\"offsetgroup\":\"Before\",\"orientation\":\"v\",\"showlegend\":true,\"textposition\":\"auto\",\"x\":[\"commons-geometry\",\"commons-rdf\",\"commons-rng\",\"commons-statistics\",\"iceberg\",\"zeppelin\",\"xalan-java\",\"submarine\",\"storm\",\"reef\",\"plc4x\",\"pinot\",\"phoenix\",\"parquet-mr\",\"ozone\",\"orc\",\"openmeetings\",\"metamodel\",\"lens\",\"kylin\",\"knox\",\"directory-kerby\",\"db-jdo\",\"iotdb\",\"inlong\",\"ignite\"],\"xaxis\":\"x\",\"y\":[0.011,0.053,0.008,0.0,0.005,0.005,0.5,0.0,0.012,0.05,0.049,0.024,0.009,0.039,0.003,0.0,0.0,0.0,0.028,0.0,0.018,0.043,0.03,0.02,0.013,0.027],\"yaxis\":\"y\",\"type\":\"bar\"},{\"alignmentgroup\":\"True\",\"hovertemplate\":\"variable=Same Time\\u003cbr\\u003eProject=%{x}\\u003cbr\\u003evalue=%{y}\\u003cextra\\u003e\\u003c\\u002fextra\\u003e\",\"legendgroup\":\"Same Time\",\"marker\":{\"color\":\"#189AB4\",\"pattern\":{\"shape\":\"\"}},\"name\":\"Same Time\",\"offsetgroup\":\"Same Time\",\"orientation\":\"v\",\"showlegend\":true,\"textposition\":\"auto\",\"x\":[\"commons-geometry\",\"commons-rdf\",\"commons-rng\",\"commons-statistics\",\"iceberg\",\"zeppelin\",\"xalan-java\",\"submarine\",\"storm\",\"reef\",\"plc4x\",\"pinot\",\"phoenix\",\"parquet-mr\",\"ozone\",\"orc\",\"openmeetings\",\"metamodel\",\"lens\",\"kylin\",\"knox\",\"directory-kerby\",\"db-jdo\",\"iotdb\",\"inlong\",\"ignite\"],\"xaxis\":\"x\",\"y\":[0.842,0.368,0.74,0.972,0.705,0.709,0.0,0.817,0.562,0.66,0.305,0.62,0.705,0.582,0.703,0.782,0.4,0.846,0.67,0.928,0.682,0.386,0.818,0.64,0.759,0.77],\"yaxis\":\"y\",\"type\":\"bar\"},{\"alignmentgroup\":\"True\",\"hovertemplate\":\"variable=After\\u003cbr\\u003eProject=%{x}\\u003cbr\\u003evalue=%{y}\\u003cextra\\u003e\\u003c\\u002fextra\\u003e\",\"legendgroup\":\"After\",\"marker\":{\"color\":\"#05445E\",\"pattern\":{\"shape\":\"\"}},\"name\":\"After\",\"offsetgroup\":\"After\",\"orientation\":\"v\",\"showlegend\":true,\"textposition\":\"auto\",\"x\":[\"commons-geometry\",\"commons-rdf\",\"commons-rng\",\"commons-statistics\",\"iceberg\",\"zeppelin\",\"xalan-java\",\"submarine\",\"storm\",\"reef\",\"plc4x\",\"pinot\",\"phoenix\",\"parquet-mr\",\"ozone\",\"orc\",\"openmeetings\",\"metamodel\",\"lens\",\"kylin\",\"knox\",\"directory-kerby\",\"db-jdo\",\"iotdb\",\"inlong\",\"ignite\"],\"xaxis\":\"x\",\"y\":[0.148,0.579,0.252,0.028,0.29,0.286,0.5,0.183,0.426,0.291,0.646,0.356,0.286,0.379,0.293,0.218,0.6,0.154,0.302,0.072,0.3,0.571,0.152,0.34,0.228,0.203],\"yaxis\":\"y\",\"type\":\"bar\"}],                        {\"template\":{\"data\":{\"histogram2dcontour\":[{\"type\":\"histogram2dcontour\",\"colorbar\":{\"outlinewidth\":0,\"ticks\":\"\"},\"colorscale\":[[0.0,\"#0d0887\"],[0.1111111111111111,\"#46039f\"],[0.2222222222222222,\"#7201a8\"],[0.3333333333333333,\"#9c179e\"],[0.4444444444444444,\"#bd3786\"],[0.5555555555555556,\"#d8576b\"],[0.6666666666666666,\"#ed7953\"],[0.7777777777777778,\"#fb9f3a\"],[0.8888888888888888,\"#fdca26\"],[1.0,\"#f0f921\"]]}],\"choropleth\":[{\"type\":\"choropleth\",\"colorbar\":{\"outlinewidth\":0,\"ticks\":\"\"}}],\"histogram2d\":[{\"type\":\"histogram2d\",\"colorbar\":{\"outlinewidth\":0,\"ticks\":\"\"},\"colorscale\":[[0.0,\"#0d0887\"],[0.1111111111111111,\"#46039f\"],[0.2222222222222222,\"#7201a8\"],[0.3333333333333333,\"#9c179e\"],[0.4444444444444444,\"#bd3786\"],[0.5555555555555556,\"#d8576b\"],[0.6666666666666666,\"#ed7953\"],[0.7777777777777778,\"#fb9f3a\"],[0.8888888888888888,\"#fdca26\"],[1.0,\"#f0f921\"]]}],\"heatmap\":[{\"type\":\"heatmap\",\"colorbar\":{\"outlinewidth\":0,\"ticks\":\"\"},\"colorscale\":[[0.0,\"#0d0887\"],[0.1111111111111111,\"#46039f\"],[0.2222222222222222,\"#7201a8\"],[0.3333333333333333,\"#9c179e\"],[0.4444444444444444,\"#bd3786\"],[0.5555555555555556,\"#d8576b\"],[0.6666666666666666,\"#ed7953\"],[0.7777777777777778,\"#fb9f3a\"],[0.8888888888888888,\"#fdca26\"],[1.0,\"#f0f921\"]]}],\"heatmapgl\":[{\"type\":\"heatmapgl\",\"colorbar\":{\"outlinewidth\":0,\"ticks\":\"\"},\"colorscale\":[[0.0,\"#0d0887\"],[0.1111111111111111,\"#46039f\"],[0.2222222222222222,\"#7201a8\"],[0.3333333333333333,\"#9c179e\"],[0.4444444444444444,\"#bd3786\"],[0.5555555555555556,\"#d8576b\"],[0.6666666666666666,\"#ed7953\"],[0.7777777777777778,\"#fb9f3a\"],[0.8888888888888888,\"#fdca26\"],[1.0,\"#f0f921\"]]}],\"contourcarpet\":[{\"type\":\"contourcarpet\",\"colorbar\":{\"outlinewidth\":0,\"ticks\":\"\"}}],\"contour\":[{\"type\":\"contour\",\"colorbar\":{\"outlinewidth\":0,\"ticks\":\"\"},\"colorscale\":[[0.0,\"#0d0887\"],[0.1111111111111111,\"#46039f\"],[0.2222222222222222,\"#7201a8\"],[0.3333333333333333,\"#9c179e\"],[0.4444444444444444,\"#bd3786\"],[0.5555555555555556,\"#d8576b\"],[0.6666666666666666,\"#ed7953\"],[0.7777777777777778,\"#fb9f3a\"],[0.8888888888888888,\"#fdca26\"],[1.0,\"#f0f921\"]]}],\"surface\":[{\"type\":\"surface\",\"colorbar\":{\"outlinewidth\":0,\"ticks\":\"\"},\"colorscale\":[[0.0,\"#0d0887\"],[0.1111111111111111,\"#46039f\"],[0.2222222222222222,\"#7201a8\"],[0.3333333333333333,\"#9c179e\"],[0.4444444444444444,\"#bd3786\"],[0.5555555555555556,\"#d8576b\"],[0.6666666666666666,\"#ed7953\"],[0.7777777777777778,\"#fb9f3a\"],[0.8888888888888888,\"#fdca26\"],[1.0,\"#f0f921\"]]}],\"mesh3d\":[{\"type\":\"mesh3d\",\"colorbar\":{\"outlinewidth\":0,\"ticks\":\"\"}}],\"scatter\":[{\"marker\":{\"line\":{\"color\":\"#283442\"}},\"type\":\"scatter\"}],\"parcoords\":[{\"type\":\"parcoords\",\"line\":{\"colorbar\":{\"outlinewidth\":0,\"ticks\":\"\"}}}],\"scatterpolargl\":[{\"type\":\"scatterpolargl\",\"marker\":{\"colorbar\":{\"outlinewidth\":0,\"ticks\":\"\"}}}],\"bar\":[{\"error_x\":{\"color\":\"#f2f5fa\"},\"error_y\":{\"color\":\"#f2f5fa\"},\"marker\":{\"line\":{\"color\":\"rgb(17,17,17)\",\"width\":0.5},\"pattern\":{\"fillmode\":\"overlay\",\"size\":10,\"solidity\":0.2}},\"type\":\"bar\"}],\"scattergeo\":[{\"type\":\"scattergeo\",\"marker\":{\"colorbar\":{\"outlinewidth\":0,\"ticks\":\"\"}}}],\"scatterpolar\":[{\"type\":\"scatterpolar\",\"marker\":{\"colorbar\":{\"outlinewidth\":0,\"ticks\":\"\"}}}],\"histogram\":[{\"marker\":{\"pattern\":{\"fillmode\":\"overlay\",\"size\":10,\"solidity\":0.2}},\"type\":\"histogram\"}],\"scattergl\":[{\"marker\":{\"line\":{\"color\":\"#283442\"}},\"type\":\"scattergl\"}],\"scatter3d\":[{\"type\":\"scatter3d\",\"line\":{\"colorbar\":{\"outlinewidth\":0,\"ticks\":\"\"}},\"marker\":{\"colorbar\":{\"outlinewidth\":0,\"ticks\":\"\"}}}],\"scattermapbox\":[{\"type\":\"scattermapbox\",\"marker\":{\"colorbar\":{\"outlinewidth\":0,\"ticks\":\"\"}}}],\"scatterternary\":[{\"type\":\"scatterternary\",\"marker\":{\"colorbar\":{\"outlinewidth\":0,\"ticks\":\"\"}}}],\"scattercarpet\":[{\"type\":\"scattercarpet\",\"marker\":{\"colorbar\":{\"outlinewidth\":0,\"ticks\":\"\"}}}],\"carpet\":[{\"aaxis\":{\"endlinecolor\":\"#A2B1C6\",\"gridcolor\":\"#506784\",\"linecolor\":\"#506784\",\"minorgridcolor\":\"#506784\",\"startlinecolor\":\"#A2B1C6\"},\"baxis\":{\"endlinecolor\":\"#A2B1C6\",\"gridcolor\":\"#506784\",\"linecolor\":\"#506784\",\"minorgridcolor\":\"#506784\",\"startlinecolor\":\"#A2B1C6\"},\"type\":\"carpet\"}],\"table\":[{\"cells\":{\"fill\":{\"color\":\"#506784\"},\"line\":{\"color\":\"rgb(17,17,17)\"}},\"header\":{\"fill\":{\"color\":\"#2a3f5f\"},\"line\":{\"color\":\"rgb(17,17,17)\"}},\"type\":\"table\"}],\"barpolar\":[{\"marker\":{\"line\":{\"color\":\"rgb(17,17,17)\",\"width\":0.5},\"pattern\":{\"fillmode\":\"overlay\",\"size\":10,\"solidity\":0.2}},\"type\":\"barpolar\"}],\"pie\":[{\"automargin\":true,\"type\":\"pie\"}]},\"layout\":{\"autotypenumbers\":\"strict\",\"colorway\":[\"#636efa\",\"#EF553B\",\"#00cc96\",\"#ab63fa\",\"#FFA15A\",\"#19d3f3\",\"#FF6692\",\"#B6E880\",\"#FF97FF\",\"#FECB52\"],\"font\":{\"color\":\"#f2f5fa\"},\"hovermode\":\"closest\",\"hoverlabel\":{\"align\":\"left\"},\"paper_bgcolor\":\"rgb(17,17,17)\",\"plot_bgcolor\":\"rgb(17,17,17)\",\"polar\":{\"bgcolor\":\"rgb(17,17,17)\",\"angularaxis\":{\"gridcolor\":\"#506784\",\"linecolor\":\"#506784\",\"ticks\":\"\"},\"radialaxis\":{\"gridcolor\":\"#506784\",\"linecolor\":\"#506784\",\"ticks\":\"\"}},\"ternary\":{\"bgcolor\":\"rgb(17,17,17)\",\"aaxis\":{\"gridcolor\":\"#506784\",\"linecolor\":\"#506784\",\"ticks\":\"\"},\"baxis\":{\"gridcolor\":\"#506784\",\"linecolor\":\"#506784\",\"ticks\":\"\"},\"caxis\":{\"gridcolor\":\"#506784\",\"linecolor\":\"#506784\",\"ticks\":\"\"}},\"coloraxis\":{\"colorbar\":{\"outlinewidth\":0,\"ticks\":\"\"}},\"colorscale\":{\"sequential\":[[0.0,\"#0d0887\"],[0.1111111111111111,\"#46039f\"],[0.2222222222222222,\"#7201a8\"],[0.3333333333333333,\"#9c179e\"],[0.4444444444444444,\"#bd3786\"],[0.5555555555555556,\"#d8576b\"],[0.6666666666666666,\"#ed7953\"],[0.7777777777777778,\"#fb9f3a\"],[0.8888888888888888,\"#fdca26\"],[1.0,\"#f0f921\"]],\"sequentialminus\":[[0.0,\"#0d0887\"],[0.1111111111111111,\"#46039f\"],[0.2222222222222222,\"#7201a8\"],[0.3333333333333333,\"#9c179e\"],[0.4444444444444444,\"#bd3786\"],[0.5555555555555556,\"#d8576b\"],[0.6666666666666666,\"#ed7953\"],[0.7777777777777778,\"#fb9f3a\"],[0.8888888888888888,\"#fdca26\"],[1.0,\"#f0f921\"]],\"diverging\":[[0,\"#8e0152\"],[0.1,\"#c51b7d\"],[0.2,\"#de77ae\"],[0.3,\"#f1b6da\"],[0.4,\"#fde0ef\"],[0.5,\"#f7f7f7\"],[0.6,\"#e6f5d0\"],[0.7,\"#b8e186\"],[0.8,\"#7fbc41\"],[0.9,\"#4d9221\"],[1,\"#276419\"]]},\"xaxis\":{\"gridcolor\":\"#283442\",\"linecolor\":\"#506784\",\"ticks\":\"\",\"title\":{\"standoff\":15},\"zerolinecolor\":\"#283442\",\"automargin\":true,\"zerolinewidth\":2},\"yaxis\":{\"gridcolor\":\"#283442\",\"linecolor\":\"#506784\",\"ticks\":\"\",\"title\":{\"standoff\":15},\"zerolinecolor\":\"#283442\",\"automargin\":true,\"zerolinewidth\":2},\"scene\":{\"xaxis\":{\"backgroundcolor\":\"rgb(17,17,17)\",\"gridcolor\":\"#506784\",\"linecolor\":\"#506784\",\"showbackground\":true,\"ticks\":\"\",\"zerolinecolor\":\"#C8D4E3\",\"gridwidth\":2},\"yaxis\":{\"backgroundcolor\":\"rgb(17,17,17)\",\"gridcolor\":\"#506784\",\"linecolor\":\"#506784\",\"showbackground\":true,\"ticks\":\"\",\"zerolinecolor\":\"#C8D4E3\",\"gridwidth\":2},\"zaxis\":{\"backgroundcolor\":\"rgb(17,17,17)\",\"gridcolor\":\"#506784\",\"linecolor\":\"#506784\",\"showbackground\":true,\"ticks\":\"\",\"zerolinecolor\":\"#C8D4E3\",\"gridwidth\":2}},\"shapedefaults\":{\"line\":{\"color\":\"#f2f5fa\"}},\"annotationdefaults\":{\"arrowcolor\":\"#f2f5fa\",\"arrowhead\":0,\"arrowwidth\":1},\"geo\":{\"bgcolor\":\"rgb(17,17,17)\",\"landcolor\":\"rgb(17,17,17)\",\"subunitcolor\":\"#506784\",\"showland\":true,\"showlakes\":true,\"lakecolor\":\"rgb(17,17,17)\"},\"title\":{\"x\":0.05},\"updatemenudefaults\":{\"bgcolor\":\"#506784\",\"borderwidth\":0},\"sliderdefaults\":{\"bgcolor\":\"#C8D4E3\",\"borderwidth\":1,\"bordercolor\":\"rgb(17,17,17)\",\"tickwidth\":0},\"mapbox\":{\"style\":\"dark\"}}},\"xaxis\":{\"anchor\":\"y\",\"domain\":[0.0,1.0],\"title\":{\"text\":\"Project\"}},\"yaxis\":{\"anchor\":\"x\",\"domain\":[0.0,1.0],\"title\":{\"text\":\"value\"}},\"legend\":{\"title\":{\"text\":\"variable\"},\"tracegroupgap\":0},\"title\":{\"text\":\"Test File Creation Timing Across Projects\"},\"barmode\":\"relative\",\"font\":{\"family\":\"Arial, sans-serif\",\"size\":12,\"color\":\"black\"},\"height\":500,\"width\":800,\"plot_bgcolor\":\"white\",\"paper_bgcolor\":\"white\"},                        {\"responsive\": true}                    ).then(function(){\n                            \nvar gd = document.getElementById('535e7b1f-68f8-4695-8241-e77bde601491');\nvar x = new MutationObserver(function (mutations, observer) {{\n        var display = window.getComputedStyle(gd).display;\n        if (!display || display === 'none') {{\n            console.log([gd, 'removed!']);\n            Plotly.purge(gd);\n            observer.disconnect();\n        }}\n}});\n\n// Listen for the removal of the full notebook cells\nvar notebookContainer = gd.closest('#notebook-container');\nif (notebookContainer) {{\n    x.observe(notebookContainer, {childList: true});\n}}\n\n// Listen for the clearing of the current output cell\nvar outputEl = gd.closest('.output');\nif (outputEl) {{\n    x.observe(outputEl, {childList: true});\n}}\n\n                        })                };                });            </script>        </div>"
     },
     "metadata": {},
     "output_type": "display_data"
    }
   ],
   "source": [
    "import plotly.express as px\n",
    "\n",
    "df = pd.DataFrame(ratio_data)\n",
    "# Initialize Figure\n",
    "fig = px.bar(df, x='Project', y=['Before', 'Same Time', 'After'],\n",
    "             title='Test File Creation Timing Across Projects',\n",
    "             color_discrete_map={'Before': '#75E6DA', 'Same Time': '#189AB4', 'After': '#05445E'})\n",
    "fig.update_layout(\n",
    "    height=500,\n",
    "    width=800,\n",
    "    plot_bgcolor='white',\n",
    "    paper_bgcolor='white',\n",
    "    # font_color='black',\n",
    "    font=dict(\n",
    "        family=\"Arial, sans-serif\",  # Replace with available fonts\n",
    "        size=12,\n",
    "        color=\"black\",\n",
    "    )\n",
    ")\n",
    "fig.show()"
   ]
  },
  {
   "cell_type": "code",
   "execution_count": null,
   "metadata": {
    "collapsed": false,
    "jupyter": {
     "outputs_hidden": false
    }
   },
   "outputs": [],
   "source": []
  }
 ],
 "metadata": {
  "kernelspec": {
   "display_name": "Python 3 (ipykernel)",
   "language": "python",
   "name": "python3"
  },
  "language_info": {
   "codemirror_mode": {
    "name": "ipython",
    "version": 3
   },
   "file_extension": ".py",
   "mimetype": "text/x-python",
   "name": "python",
   "nbconvert_exporter": "python",
   "pygments_lexer": "ipython3",
   "version": "3.9.18"
  }
 },
 "nbformat": 4,
 "nbformat_minor": 4
}
