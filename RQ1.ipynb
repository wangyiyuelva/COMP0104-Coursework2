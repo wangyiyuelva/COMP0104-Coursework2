{
 "cells": [
  {
   "cell_type": "code",
   "execution_count": 1,
   "metadata": {
    "collapsed": true,
    "ExecuteTime": {
     "end_time": "2023-12-10T21:04:57.040714300Z",
     "start_time": "2023-12-10T21:04:57.031207100Z"
    }
   },
   "outputs": [],
   "source": [
    "import os\n",
    "\n",
    "project_li = [\n",
    "    'commons-geometry',\n",
    "    'commons-rdf',\n",
    "    'commons-rng',\n",
    "    'commons-statistics',\n",
    "    'iceberg',\n",
    "    'zeppelin',\n",
    "    'xalan-java',\n",
    "    'submarine',\n",
    "    'storm',\n",
    "    'reef',\n",
    "    'plc4x',\n",
    "    'pinot',\n",
    "    'phoenix',\n",
    "    'parquet-mr',\n",
    "    'ozone',\n",
    "    'orc',\n",
    "    'openmeetings',\n",
    "    'metamodel',\n",
    "    'lens',\n",
    "    'kylin',\n",
    "    'knox',\n",
    "    'directory-kerby',\n",
    "    'db-jdo',\n",
    "    'iotdb',\n",
    "    'inlong',\n",
    "    'ignite',\n",
    "]"
   ]
  },
  {
   "cell_type": "code",
   "execution_count": 7,
   "outputs": [
    {
     "name": "stdout",
     "output_type": "stream",
     "text": [
      "[Success Analysis CSV] commons-geometry\n",
      "[Success Analysis CSV] commons-rdf\n",
      "[Success Analysis CSV] commons-rng\n",
      "[Success Analysis CSV] commons-statistics\n",
      "[Success Analysis CSV] iceberg\n",
      "[Success Analysis CSV] zeppelin\n",
      "[Success Analysis CSV] xalan-java\n",
      "[Success Analysis CSV] submarine\n",
      "[Success Analysis CSV] storm\n",
      "[Success Analysis CSV] reef\n",
      "[Success Analysis CSV] plc4x\n",
      "[Success Analysis CSV] pinot\n",
      "[Success Analysis CSV] phoenix\n",
      "[Success Analysis CSV] parquet-mr\n",
      "[Success Analysis CSV] ozone\n",
      "[Success Analysis CSV] orc\n",
      "[Success Analysis CSV] openmeetings\n",
      "[Success Analysis CSV] metamodel\n",
      "[Success Analysis CSV] lens\n",
      "[Success Analysis CSV] kylin\n",
      "[Success Analysis CSV] knox\n",
      "[Success Analysis CSV] directory-kerby\n",
      "[Success Analysis CSV] db-jdo\n",
      "[Success Analysis CSV] iotdb\n",
      "[Success Analysis CSV] inlong\n",
      "[Success Analysis CSV] ignite\n"
     ]
    }
   ],
   "source": [
    "for project in project_li:\n",
    "    # cmd_generate_csv = str(r'python .\\collect_information.py %s' % project)\n",
    "    # os.system(cmd_generate_csv)\n",
    "    # print('[Success Generate CSV] %s' % project)\n",
    "    cmd_analysis_csv = str(r'python analyse_csv.py %s' % project)\n",
    "    # print(cmd_analysis_csv)\n",
    "    os.system(cmd_analysis_csv)\n",
    "    print('[Success Analysis CSV] %s' % project)\n"
   ],
   "metadata": {
    "collapsed": false,
    "ExecuteTime": {
     "end_time": "2023-12-10T21:09:12.076923800Z",
     "start_time": "2023-12-10T21:09:00.822819Z"
    }
   }
  },
  {
   "cell_type": "code",
   "execution_count": null,
   "outputs": [],
   "source": [],
   "metadata": {
    "collapsed": false
   }
  }
 ],
 "metadata": {
  "kernelspec": {
   "display_name": "Python 3",
   "language": "python",
   "name": "python3"
  },
  "language_info": {
   "codemirror_mode": {
    "name": "ipython",
    "version": 2
   },
   "file_extension": ".py",
   "mimetype": "text/x-python",
   "name": "python",
   "nbconvert_exporter": "python",
   "pygments_lexer": "ipython2",
   "version": "2.7.6"
  }
 },
 "nbformat": 4,
 "nbformat_minor": 0
}
