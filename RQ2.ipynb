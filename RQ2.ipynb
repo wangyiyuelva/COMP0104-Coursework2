{
 "cells": [
  {
   "cell_type": "code",
   "execution_count": 1,
   "metadata": {
    "collapsed": true,
    "ExecuteTime": {
     "end_time": "2023-12-15T13:32:08.546066600Z",
     "start_time": "2023-12-15T13:32:07.481976600Z"
    }
   },
   "outputs": [],
   "source": [
    "import pandas as pd\n",
    "\n",
    "projects = [\n",
    "    'zeppelin',\n",
    "    'submarine',\n",
    "    'storm',\n",
    "    'reef',\n",
    "    'plc4x',\n",
    "    'pinot',\n",
    "    'parquet-mr',\n",
    "    'metamodel',\n",
    "    'lens',\n",
    "    'knox',\n",
    "    'ignite',\n",
    "]"
   ]
  },
  {
   "cell_type": "code",
   "execution_count": 2,
   "outputs": [
    {
     "name": "stdout",
     "output_type": "stream",
     "text": [
      "[Success] zeppelin\n",
      "[Success] submarine\n",
      "[Success] storm\n",
      "[Success] reef\n",
      "[Success] plc4x\n",
      "[Success] pinot\n",
      "[Success] parquet-mr\n",
      "[Success] metamodel\n",
      "[Success] lens\n",
      "[Success] knox\n",
      "[Success] ignite\n"
     ]
    },
    {
     "name": "stderr",
     "output_type": "stream",
     "text": [
      "C:\\Users\\Rui\\AppData\\Local\\Temp\\ipykernel_21052\\920908400.py:9: SettingWithCopyWarning: \n",
      "A value is trying to be set on a copy of a slice from a DataFrame.\n",
      "Try using .loc[row_indexer,col_indexer] = value instead\n",
      "\n",
      "See the caveats in the documentation: https://pandas.pydata.org/pandas-docs/stable/user_guide/indexing.html#returning-a-view-versus-a-copy\n",
      "  project_data['project'] = project\n",
      "C:\\Users\\Rui\\AppData\\Local\\Temp\\ipykernel_21052\\920908400.py:9: SettingWithCopyWarning: \n",
      "A value is trying to be set on a copy of a slice from a DataFrame.\n",
      "Try using .loc[row_indexer,col_indexer] = value instead\n",
      "\n",
      "See the caveats in the documentation: https://pandas.pydata.org/pandas-docs/stable/user_guide/indexing.html#returning-a-view-versus-a-copy\n",
      "  project_data['project'] = project\n",
      "C:\\Users\\Rui\\AppData\\Local\\Temp\\ipykernel_21052\\920908400.py:9: SettingWithCopyWarning: \n",
      "A value is trying to be set on a copy of a slice from a DataFrame.\n",
      "Try using .loc[row_indexer,col_indexer] = value instead\n",
      "\n",
      "See the caveats in the documentation: https://pandas.pydata.org/pandas-docs/stable/user_guide/indexing.html#returning-a-view-versus-a-copy\n",
      "  project_data['project'] = project\n",
      "C:\\Users\\Rui\\AppData\\Local\\Temp\\ipykernel_21052\\920908400.py:9: SettingWithCopyWarning: \n",
      "A value is trying to be set on a copy of a slice from a DataFrame.\n",
      "Try using .loc[row_indexer,col_indexer] = value instead\n",
      "\n",
      "See the caveats in the documentation: https://pandas.pydata.org/pandas-docs/stable/user_guide/indexing.html#returning-a-view-versus-a-copy\n",
      "  project_data['project'] = project\n",
      "C:\\Users\\Rui\\AppData\\Local\\Temp\\ipykernel_21052\\920908400.py:9: SettingWithCopyWarning: \n",
      "A value is trying to be set on a copy of a slice from a DataFrame.\n",
      "Try using .loc[row_indexer,col_indexer] = value instead\n",
      "\n",
      "See the caveats in the documentation: https://pandas.pydata.org/pandas-docs/stable/user_guide/indexing.html#returning-a-view-versus-a-copy\n",
      "  project_data['project'] = project\n",
      "C:\\Users\\Rui\\AppData\\Local\\Temp\\ipykernel_21052\\920908400.py:9: SettingWithCopyWarning: \n",
      "A value is trying to be set on a copy of a slice from a DataFrame.\n",
      "Try using .loc[row_indexer,col_indexer] = value instead\n",
      "\n",
      "See the caveats in the documentation: https://pandas.pydata.org/pandas-docs/stable/user_guide/indexing.html#returning-a-view-versus-a-copy\n",
      "  project_data['project'] = project\n",
      "C:\\Users\\Rui\\AppData\\Local\\Temp\\ipykernel_21052\\920908400.py:9: SettingWithCopyWarning: \n",
      "A value is trying to be set on a copy of a slice from a DataFrame.\n",
      "Try using .loc[row_indexer,col_indexer] = value instead\n",
      "\n",
      "See the caveats in the documentation: https://pandas.pydata.org/pandas-docs/stable/user_guide/indexing.html#returning-a-view-versus-a-copy\n",
      "  project_data['project'] = project\n",
      "C:\\Users\\Rui\\AppData\\Local\\Temp\\ipykernel_21052\\920908400.py:9: SettingWithCopyWarning: \n",
      "A value is trying to be set on a copy of a slice from a DataFrame.\n",
      "Try using .loc[row_indexer,col_indexer] = value instead\n",
      "\n",
      "See the caveats in the documentation: https://pandas.pydata.org/pandas-docs/stable/user_guide/indexing.html#returning-a-view-versus-a-copy\n",
      "  project_data['project'] = project\n",
      "C:\\Users\\Rui\\AppData\\Local\\Temp\\ipykernel_21052\\920908400.py:9: SettingWithCopyWarning: \n",
      "A value is trying to be set on a copy of a slice from a DataFrame.\n",
      "Try using .loc[row_indexer,col_indexer] = value instead\n",
      "\n",
      "See the caveats in the documentation: https://pandas.pydata.org/pandas-docs/stable/user_guide/indexing.html#returning-a-view-versus-a-copy\n",
      "  project_data['project'] = project\n",
      "C:\\Users\\Rui\\AppData\\Local\\Temp\\ipykernel_21052\\920908400.py:9: SettingWithCopyWarning: \n",
      "A value is trying to be set on a copy of a slice from a DataFrame.\n",
      "Try using .loc[row_indexer,col_indexer] = value instead\n",
      "\n",
      "See the caveats in the documentation: https://pandas.pydata.org/pandas-docs/stable/user_guide/indexing.html#returning-a-view-versus-a-copy\n",
      "  project_data['project'] = project\n",
      "C:\\Users\\Rui\\AppData\\Local\\Temp\\ipykernel_21052\\920908400.py:9: SettingWithCopyWarning: \n",
      "A value is trying to be set on a copy of a slice from a DataFrame.\n",
      "Try using .loc[row_indexer,col_indexer] = value instead\n",
      "\n",
      "See the caveats in the documentation: https://pandas.pydata.org/pandas-docs/stable/user_guide/indexing.html#returning-a-view-versus-a-copy\n",
      "  project_data['project'] = project\n"
     ]
    }
   ],
   "source": [
    "combined_df = pd.DataFrame()\n",
    "for project in projects:\n",
    "    file_path = f'./analyseTestfile/analyse_{project}.csv'\n",
    "    df = pd.read_csv(file_path)\n",
    "    df = df.drop_duplicates(subset='hash_test_creation')\n",
    "    df = df[df['type'] == 'same']\n",
    "\n",
    "    project_data = df[['test_commit_files', 'test_commit_lines']]\n",
    "    project_data['project'] = project\n",
    "\n",
    "    combined_df = pd.concat([combined_df, project_data], ignore_index=True)\n",
    "    print('[Success]', project)"
   ],
   "metadata": {
    "collapsed": false,
    "ExecuteTime": {
     "end_time": "2023-12-15T13:32:09.839112600Z",
     "start_time": "2023-12-15T13:32:09.699396100Z"
    }
   }
  },
  {
   "cell_type": "code",
   "execution_count": 3,
   "outputs": [
    {
     "name": "stdout",
     "output_type": "stream",
     "text": [
      "Mean test_commit_files: 33.1641074856046\n",
      "Standard Deviation of test_commit_files: 139.6727097118533\n",
      "Small threshold of test_commit_files(25th percentile): 8.0\n",
      "Medium threshold of test_commit_files(75th percentile): 26.0\n",
      "Mean test_commit_lines: 2977.2495201535507\n",
      "Standard Deviation of test_commit_lines: 15184.546316210122\n",
      "Small threshold of test_commit_lines(25th percentile): 438.25\n",
      "Medium threshold of test_commit_lines(75th percentile): 1696.5\n"
     ]
    }
   ],
   "source": [
    "combined_df['test_commit_files'] = combined_df['test_commit_files'].astype(int)\n",
    "combined_df['test_commit_lines'] = combined_df['test_commit_lines'].astype(int)\n",
    "\n",
    "def printKeyValue(df, str):\n",
    "    print(f\"Mean {str}: {df[str].mean()}\")\n",
    "    print(f\"Standard Deviation of {str}: {df[str].std()}\")\n",
    "    print(f\"Small threshold of {str}(25th percentile): {df[str].quantile(0.25)}\")\n",
    "    print(f\"Medium threshold of {str}(75th percentile): {df[str].quantile(0.75)}\")\n",
    "\n",
    "printKeyValue(combined_df, 'test_commit_files')\n",
    "printKeyValue(combined_df, 'test_commit_lines')"
   ],
   "metadata": {
    "collapsed": false,
    "ExecuteTime": {
     "end_time": "2023-12-15T13:32:10.665589300Z",
     "start_time": "2023-12-15T13:32:10.633878600Z"
    }
   }
  },
  {
   "cell_type": "code",
   "execution_count": null,
   "outputs": [],
   "source": [],
   "metadata": {
    "collapsed": false
   }
  }
 ],
 "metadata": {
  "kernelspec": {
   "display_name": "Python 3",
   "language": "python",
   "name": "python3"
  },
  "language_info": {
   "codemirror_mode": {
    "name": "ipython",
    "version": 2
   },
   "file_extension": ".py",
   "mimetype": "text/x-python",
   "name": "python",
   "nbconvert_exporter": "python",
   "pygments_lexer": "ipython2",
   "version": "2.7.6"
  }
 },
 "nbformat": 4,
 "nbformat_minor": 0
}
